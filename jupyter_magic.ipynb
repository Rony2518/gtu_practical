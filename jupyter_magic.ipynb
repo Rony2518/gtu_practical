{
 "cells": [
  {
   "cell_type": "code",
   "execution_count": 2,
   "metadata": {},
   "outputs": [
    {
     "name": "stdout",
     "output_type": "stream",
     "text": [
      "120\n",
      "276 ns ± 2.36 ns per loop (mean ± std. dev. of 7 runs, 1,000,000 loops each)\n"
     ]
    }
   ],
   "source": [
    "n = int(input(\"enter a number:\"))\n",
    "def factorial(n):\n",
    "    if(n==1):\n",
    "        return 1\n",
    "    else:\n",
    "        return n*factorial(n-1)\n",
    "print(factorial(n))\n",
    "\n",
    "%timeit factorial(n)"
   ]
  },
  {
   "cell_type": "code",
   "execution_count": 1,
   "metadata": {},
   "outputs": [
    {
     "data": {
      "image/png": "[encoded data removed]",
      "text/plain": [
       "<Figure size 640x480 with 1 Axes>"
      ]
     },
     "metadata": {},
     "output_type": "display_data"
    }
   ],
   "source": [
    "%matplotlib inline\n",
    "import matplotlib.pyplot as plt\n",
    "\n",
    "# Plotting a simple graph\n",
    "plt.plot([1, 2, 3, 4, 5])\n",
    "plt.title('Simple Plot')\n",
    "plt.xlabel('X-axis')\n",
    "plt.ylabel('Y-axis')\n",
    "plt.show()\n"
   ]
  },
  {
   "cell_type": "code",
   "execution_count": 4,
   "metadata": {},
   "outputs": [
    {
     "data": {
      "text/html": [
       "<!DOCTYPE html>\n",
       "<html lang=\"en\">\n",
       "<head>\n",
       "    <meta charset=\"UTF-8\">\n",
       "    <meta name=\"viewport\" content=\"width=device-width, initial-scale=1.0\">\n",
       "    <title>Document</title>\n",
       "    <style>\n",
       "        body {\n",
       "            display: flex;\n",
       "            justify-content: center;\n",
       "            align-items: center;\n",
       "            height: 100vh;\n",
       "            margin: 0;\n",
       "        }\n",
       "        .Container {\n",
       "            text-align: center;\n",
       "            padding: 20px;\n",
       "            border: 1px solid #ccc;\n",
       "            box-shadow: 0 0 10px rgba(0, 0, 0, 0.1);\n",
       "        }\n",
       "        input {\n",
       "            padding: 5px;\n",
       "            margin-right: 5px;\n",
       "        }\n",
       "        button {\n",
       "            padding: 5px 10px;\n",
       "            cursor: pointer;\n",
       "        }\n",
       "    </style>\n",
       "</head>\n",
       "<body>\n",
       "    <div class=\"Container\">\n",
       "        <input type=\"text\">\n",
       "        <button>Add</button>\n",
       "    </div>\n",
       "</body>\n",
       "</html>\n"
      ],
      "text/plain": [
       "<IPython.core.display.HTML object>"
      ]
     },
     "metadata": {},
     "output_type": "display_data"
    }
   ],
   "source": [
    "%%HTML\n",
    "<!DOCTYPE html>\n",
    "<html lang=\"en\">\n",
    "<head>\n",
    "    <meta charset=\"UTF-8\">\n",
    "    <meta name=\"viewport\" content=\"width=device-width, initial-scale=1.0\">\n",
    "    <title>Document</title>\n",
    "    <style>\n",
    "        body {\n",
    "            display: flex;\n",
    "            justify-content: center;\n",
    "            align-items: center;\n",
    "            height: 100vh;\n",
    "            margin: 0;\n",
    "        }\n",
    "        .Container {\n",
    "            text-align: center;\n",
    "            padding: 20px;\n",
    "            border: 1px solid #ccc;\n",
    "            box-shadow: 0 0 10px rgba(0, 0, 0, 0.1);\n",
    "        }\n",
    "        input {\n",
    "            padding: 5px;\n",
    "            margin-right: 5px;\n",
    "        }\n",
    "        button {\n",
    "            padding: 5px 10px;\n",
    "            cursor: pointer;\n",
    "        }\n",
    "    </style>\n",
    "</head>\n",
    "<body>\n",
    "    <div class=\"Container\">\n",
    "        <input type=\"text\">\n",
    "        <button>Add</button>\n",
    "    </div>\n",
    "</body>\n",
    "</html>"
   ]
  },
  {
   "cell_type": "code",
   "execution_count": null,
   "metadata": {},
   "outputs": [],
   "source": [
    "%load nem.py"
   ]
  }
 ],
 "metadata": {
  "kernelspec": {
   "display_name": "Python 3",
   "language": "python",
   "name": "python3"
  },
  "language_info": {
   "codemirror_mode": {
    "name": "ipython",
    "version": 3
   },
   "file_extension": ".py",
   "mimetype": "text/x-python",
   "name": "python",
   "nbconvert_exporter": "python",
   "pygments_lexer": "ipython3",
   "version": "3.12.0"
  }
 },
 "nbformat": 4,
 "nbformat_minor": 2
}
